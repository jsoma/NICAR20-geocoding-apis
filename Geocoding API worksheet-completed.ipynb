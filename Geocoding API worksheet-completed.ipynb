{
 "cells": [
  {
   "cell_type": "markdown",
   "metadata": {},
   "source": [
    "# Geocoding through APIs\n",
    "\n",
    "## Install what needs installing\n",
    "\n",
    "We're installing two packages: [Geocoder](https://geocoder.readthedocs.io/), which provides shortcuts to geocoding services, and [tqdm](https://github.com/tqdm/tqdm), which allows you to have beautiful perfect progress bars in both the terminal and in notebooks."
   ]
  },
  {
   "cell_type": "code",
   "execution_count": null,
   "metadata": {},
   "outputs": [],
   "source": [
    "!pip install geocoder tqdm==4.42.1"
   ]
  },
  {
   "cell_type": "markdown",
   "metadata": {},
   "source": [
    "## Download our datasets"
   ]
  },
  {
   "cell_type": "code",
   "execution_count": null,
   "metadata": {},
   "outputs": [],
   "source": [
    "!curl https://raw.githubusercontent.com/jsoma/NICAR20-geocoding-apis/master/addresses.csv -o addresses.csv\n",
    "!curl https://raw.githubusercontent.com/jsoma/NICAR20-geocoding-apis/master/pharma.csv -o pharma.csv"
   ]
  },
  {
   "cell_type": "markdown",
   "metadata": {},
   "source": [
    "## Read in our addresses\n",
    "\n",
    "We have a list of variously-strange addresses in `addresses.csv`. Because we're Python professionals, we'll use pandas to open it up."
   ]
  },
  {
   "cell_type": "code",
   "execution_count": null,
   "metadata": {},
   "outputs": [],
   "source": [
    "import requests\n",
    "import pandas as pd\n",
    "pd.set_option(\"display.max_columns\", 100)\n",
    "\n",
    "df = pd.read_csv(\"addresses.csv\")\n",
    "df"
   ]
  },
  {
   "cell_type": "markdown",
   "metadata": {},
   "source": [
    "# Census Geocoder\n",
    "\n",
    "Our first target is the [Census Geocoder](https://geocoding.geo.census.gov/geocoder/locations/onelineaddress?form). We're using the \"one line\" version instead of the \"address\" version because our data isn't split up into street number/street name/city/etc.\n",
    "\n",
    "## Making a simple request\n",
    "\n",
    "One way to deal with most of these services is by going out and grabbing the web page. The result comes back as JSON. Our url is [this one here](https://geocoding.geo.census.gov/geocoder/locations/onelineaddress?address=555+Canal+St,+New+Orleans,+LA+70130&benchmark=Public_AR_Current&format=json)."
   ]
  },
  {
   "cell_type": "code",
   "execution_count": null,
   "metadata": {},
   "outputs": [],
   "source": [
    "url = \"https://geocoding.geo.census.gov/geocoder/locations/onelineaddress?address=555+Canal+St,+New+Orleans,+LA+70130&benchmark=Public_AR_Current&format=json\"\n",
    "response = requests.get(url)\n",
    "response.json()"
   ]
  },
  {
   "cell_type": "markdown",
   "metadata": {},
   "source": [
    "We're going to stay pretty simple, but if you wanted to get crazy you could use the **geographies** endpoint instead of the **location** endpoint."
   ]
  },
  {
   "cell_type": "code",
   "execution_count": null,
   "metadata": {},
   "outputs": [],
   "source": [
    "url = \"https://geocoding.geo.census.gov/geocoder/geographies/onelineaddress?address=555+Canal+St,+New+Orleans,+LA+70130&benchmark=Public_AR_Current&vintage=Current_Current&format=json\"\n",
    "response = requests.get(url)\n",
    "response.json()"
   ]
  },
  {
   "cell_type": "markdown",
   "metadata": {},
   "source": [
    "## Making a readable request\n",
    "\n",
    "I really don't like that whole `&blah&blah&blah` thing, so let's do it again but make it a little easier to read."
   ]
  },
  {
   "cell_type": "code",
   "execution_count": null,
   "metadata": {},
   "outputs": [],
   "source": [
    "params = {\n",
    "    'address': '555 Canal St, New Orleans, LA 70130',\n",
    "    'benchmark': 'Public_AR_Current',\n",
    "    'format': 'json'\n",
    "}\n",
    "url = \"https://geocoding.geo.census.gov/geocoder/locations/onelineaddress\"\n",
    "response = requests.get(url, params=params)\n",
    "response.json()"
   ]
  },
  {
   "cell_type": "markdown",
   "metadata": {},
   "source": [
    "### Let's do something nice with those results\n",
    "\n",
    "There's a lot going on in those results! Let's just pull out exactly what we need."
   ]
  },
  {
   "cell_type": "code",
   "execution_count": null,
   "metadata": {},
   "outputs": [],
   "source": [
    "data = response.json()\n",
    "matches = data['result']['addressMatches']\n",
    "\n",
    "match = matches[0]\n",
    "result = {\n",
    "    'match_count': len(matches),\n",
    "    'matches_address': match['matchedAddress'],\n",
    "    'longitude': match['coordinates']['x'],\n",
    "    'latitude': match['coordinates']['y']\n",
    "}\n",
    "\n",
    "result"
   ]
  },
  {
   "cell_type": "markdown",
   "metadata": {},
   "source": [
    "### But what if we want ALL of that data?\n",
    "\n",
    "If we're too lazy to dig through for exactly what we want, why not just take it all? Maybe it'll be useful someday!"
   ]
  },
  {
   "cell_type": "code",
   "execution_count": null,
   "metadata": {},
   "outputs": [],
   "source": [
    "from pandas.io.json import json_normalize\n",
    "\n",
    "json_normalize(match, sep='_')"
   ]
  },
  {
   "cell_type": "markdown",
   "metadata": {},
   "source": [
    "## Getting fancy with `.apply` and `tqdm`"
   ]
  },
  {
   "cell_type": "code",
   "execution_count": null,
   "metadata": {},
   "outputs": [],
   "source": [
    "# Combine all of the above\n",
    "def census_geocode(row):    \n",
    "    # Make the request\n",
    "    params = {\n",
    "        'address': row['full_address'],\n",
    "        'benchmark': 'Public_AR_Current',\n",
    "        'format': 'json'\n",
    "    }\n",
    "    url = \"https://geocoding.geo.census.gov/geocoder/locations/onelineaddress\"\n",
    "    response = requests.get(url, params=params)\n",
    "\n",
    "    # Find the matches\n",
    "    data = response.json()\n",
    "    matches = data['result']['addressMatches']\n",
    "\n",
    "    try:\n",
    "        # Grab the first (best?) match, combine it with the original\n",
    "        match = matches[0]\n",
    "        return {**row, **match}\n",
    "    except:\n",
    "        # If we run into an error ,just return the original\n",
    "        return {**row}"
   ]
  },
  {
   "cell_type": "code",
   "execution_count": null,
   "metadata": {},
   "outputs": [],
   "source": [
    "from tqdm import tqdm\n",
    "tqdm.pandas()\n",
    "\n",
    "# geocoded = df.progress_apply(census_geocode, axis=1)\n",
    "geocoded = df.apply(census_geocode, axis=1)\n",
    "geocoded"
   ]
  },
  {
   "cell_type": "markdown",
   "metadata": {},
   "source": [
    "We can use `json_normalize` to make those results a beautiful DataFrame!"
   ]
  },
  {
   "cell_type": "code",
   "execution_count": null,
   "metadata": {},
   "outputs": [],
   "source": [
    "json_normalize(geocoded, sep='_')"
   ]
  },
  {
   "cell_type": "markdown",
   "metadata": {},
   "source": [
    "## Using geocoder\n",
    "\n",
    "Life gets a lot lot lot easier if we use **geocoder** instead of separate http requests!"
   ]
  },
  {
   "cell_type": "code",
   "execution_count": null,
   "metadata": {},
   "outputs": [],
   "source": [
    "import geocoder\n",
    "\n",
    "g = geocoder.uscensus('555 Canal St, New Orleans, LA 70130')\n",
    "g"
   ]
  },
  {
   "cell_type": "markdown",
   "metadata": {},
   "source": [
    "What's the latitude and longitude?"
   ]
  },
  {
   "cell_type": "code",
   "execution_count": null,
   "metadata": {},
   "outputs": [],
   "source": [
    "g.latlng"
   ]
  },
  {
   "cell_type": "markdown",
   "metadata": {},
   "source": [
    "Let's just check the whole result out as JSON."
   ]
  },
  {
   "cell_type": "code",
   "execution_count": null,
   "metadata": {},
   "outputs": [],
   "source": [
    "g.json"
   ]
  },
  {
   "cell_type": "markdown",
   "metadata": {},
   "source": [
    "If we have JSON, we can use a function + `.apply` + `json_normalize` just like before to make a nice and easy and clean and nice and perfec approach to geocoding all of addresses!\n",
    "\n",
    "## Using `.apply` with the Census Bureau and geocoder"
   ]
  },
  {
   "cell_type": "code",
   "execution_count": null,
   "metadata": {},
   "outputs": [],
   "source": [
    "def census_geocode(row):\n",
    "    # Geocode the address\n",
    "    address = row['full_address']\n",
    "    g = geocoder.uscensus(address)\n",
    "\n",
    "    # Combine the original data with the geocoded data\n",
    "    combined = {**row, 'geo': g.json}\n",
    "\n",
    "    return combined"
   ]
  },
  {
   "cell_type": "code",
   "execution_count": null,
   "metadata": {},
   "outputs": [],
   "source": [
    "# We already ran this once, but I'll leave it here for reference\n",
    "# from tqdm import tqdm\n",
    "# tqdm.pandas()\n",
    "\n",
    "# Geocode it\n",
    "# Use this if you aren't on Google Colab\n",
    "# geocoded = df.progress_apply(census_geocode, axis=1)\n",
    "geocoded = df.apply(census_geocode, axis=1)\n",
    "\n",
    "# Turn it into something that looks nice\n",
    "geocoded = json_normalize(geocoded, sep='_')\n",
    "\n",
    "# Look at it\n",
    "geocoded"
   ]
  },
  {
   "cell_type": "markdown",
   "metadata": {},
   "source": [
    "Even though the code it nice, it sure misses a lot. What else can we try?\n",
    "\n",
    "# HERE Geocoder\n",
    "\n",
    "The HERE geocoder doesn't work with geocoder (sorry!) but we can make do with the HTTP version."
   ]
  },
  {
   "cell_type": "code",
   "execution_count": null,
   "metadata": {},
   "outputs": [],
   "source": [
    "# https://geocode.search.hereapi.com/v1/geocode?q=5+Rue+Daunou%2C+75000+Paris%2C+France&apikey=YOUR_API_KEY\n",
    "import requests\n",
    "\n",
    "params = {\n",
    "    'q': '555 Canal St, New Orleans, LA 70130',\n",
    "    'apikey': 'HERE_API_KEY'\n",
    "}\n",
    "\n",
    "response = requests.get('https://geocode.search.hereapi.com/v1/geocode', params=params)\n",
    "response.json()"
   ]
  },
  {
   "cell_type": "markdown",
   "metadata": {},
   "source": [
    "Let's just grab the one result we're interested in."
   ]
  },
  {
   "cell_type": "code",
   "execution_count": null,
   "metadata": {},
   "outputs": [],
   "source": [
    "results = response.json()['items']\n",
    "results[0]"
   ]
  },
  {
   "cell_type": "markdown",
   "metadata": {},
   "source": [
    "What would this look like as a function we could use with `.apply`?\n",
    "\n",
    "## Using `.apply` with HERE"
   ]
  },
  {
   "cell_type": "code",
   "execution_count": null,
   "metadata": {},
   "outputs": [],
   "source": [
    "def here_geocode(row):\n",
    "    # Pull out the address\n",
    "    address = row['full_address']\n",
    "    \n",
    "    # Make the request\n",
    "    params = {\n",
    "        'q': address,\n",
    "        'apikey': 'HERE_API_KEY'\n",
    "    }\n",
    "\n",
    "    response = requests.get('https://geocode.search.hereapi.com/v1/geocode', params=params)\n",
    "    results = response.json()['items']\n",
    "    \n",
    "    # Is there more than one result?\n",
    "    if len(results) > 0:\n",
    "        result = results[0]\n",
    "\n",
    "        # Combine the original data with the geocoded data\n",
    "        combined = {**row, 'geo': result}\n",
    "    else:\n",
    "        combined = {**row}\n",
    "\n",
    "    return combined"
   ]
  },
  {
   "cell_type": "code",
   "execution_count": null,
   "metadata": {
    "scrolled": true
   },
   "outputs": [],
   "source": [
    "# We already ran this once, but I'll leave it here for reference\n",
    "# from tqdm import tqdm\n",
    "# tqdm.pandas()\n",
    "\n",
    "# Geocode it\n",
    "# Use this if you aren't on Google Colab\n",
    "# geocoded = df.progress_apply(here_geocode, axis=1)\n",
    "geocoded = df.apply(here_geocode, axis=1)\n",
    "\n",
    "# Turn it into something that looks nice\n",
    "geocoded = json_normalize(geocoded, sep='_')\n",
    "\n",
    "# Look at it\n",
    "geocoded"
   ]
  },
  {
   "cell_type": "markdown",
   "metadata": {},
   "source": [
    "# Google\n",
    "\n",
    "Google's geocoder is the real kingpin, although it unfortunate has a *lot* of restrictions on use. Let's put it to use with geocoder."
   ]
  },
  {
   "cell_type": "code",
   "execution_count": null,
   "metadata": {},
   "outputs": [],
   "source": [
    "import geocoder\n",
    "\n",
    "g = geocoder.google('555 Canal St, New Orleans, LA 70130', key='GOOGLE_API_KEY')\n",
    "g"
   ]
  },
  {
   "cell_type": "code",
   "execution_count": null,
   "metadata": {},
   "outputs": [],
   "source": [
    "g.json"
   ]
  },
  {
   "cell_type": "markdown",
   "metadata": {},
   "source": [
    "Hm, how many columns is that going to be? Let's use `json_normalize` to see."
   ]
  },
  {
   "cell_type": "code",
   "execution_count": null,
   "metadata": {},
   "outputs": [],
   "source": [
    "json_normalize(g.json)"
   ]
  },
  {
   "cell_type": "markdown",
   "metadata": {},
   "source": [
    "## Using `.apply` with Google and geocoder"
   ]
  },
  {
   "cell_type": "code",
   "execution_count": null,
   "metadata": {},
   "outputs": [],
   "source": [
    "def google_geocode(row):\n",
    "    # Geocode the address\n",
    "    address = row['full_address']\n",
    "    g = geocoder.google(address, key='GOOGLE_API_KEY')\n",
    "\n",
    "    # Combine the original data with the geocoded data\n",
    "    combined = {**row, 'geo': g.json}\n",
    "\n",
    "    return combined"
   ]
  },
  {
   "cell_type": "code",
   "execution_count": null,
   "metadata": {},
   "outputs": [],
   "source": [
    "# We already ran this once, but I'll leave it here for reference\n",
    "# from tqdm import tqdm\n",
    "# tqdm.pandas()\n",
    "\n",
    "# Geocode it\n",
    "# Use this if you aren't on Google Colab\n",
    "# geocoded = df.progress_apply(google_geocode, axis=1)\n",
    "geocoded = df.apply(google_geocode, axis=1)\n",
    "\n",
    "# Turn it into something that looks nice\n",
    "geocoded = json_normalize(geocoded, sep='_')\n",
    "\n",
    "# Look at it\n",
    "geocoded"
   ]
  },
  {
   "cell_type": "markdown",
   "metadata": {},
   "source": [
    "# Try it on another dataset!\n",
    "\n",
    "We'll use it on a subset of [Joe Fox's pharmacies dataset](https://github.com/joemfox/NICAR20-geocoding). You can use this section as the reference point for code to steal in the future!"
   ]
  },
  {
   "cell_type": "code",
   "execution_count": null,
   "metadata": {},
   "outputs": [],
   "source": [
    "pharma = pd.read_csv(\"pharma.csv\")\n",
    "pharma.head()"
   ]
  },
  {
   "cell_type": "markdown",
   "metadata": {},
   "source": [
    "Take note that **we need to change something** about `google_geocode` to make it work with this new dataset. What's different?"
   ]
  },
  {
   "cell_type": "code",
   "execution_count": null,
   "metadata": {},
   "outputs": [],
   "source": [
    "def google_geocode(row):\n",
    "    # Geocode the address\n",
    "    address = row['address']\n",
    "    g = geocoder.google(address, key='GOOGLE_API_KEY')\n",
    "\n",
    "    # Combine the original data with the geocoded data\n",
    "    combined = {**row, 'geo': g.json}\n",
    "\n",
    "    return combined"
   ]
  },
  {
   "cell_type": "code",
   "execution_count": null,
   "metadata": {},
   "outputs": [],
   "source": [
    "# We already ran this once, but I'll leave it here for reference\n",
    "# from tqdm import tqdm\n",
    "# tqdm.pandas()\n",
    "\n",
    "# Geocode it\n",
    "# Use this if you aren't on Google Colab\n",
    "# geocoded = pharma.progress_apply(google_geocode, axis=1)\n",
    "geocoded = pharma.apply(google_geocode, axis=1)\n",
    "\n",
    "# Turn it into something that looks nice\n",
    "geocoded = json_normalize(geocoded, sep='_')\n",
    "\n",
    "# Look at it\n",
    "geocoded"
   ]
  },
  {
   "cell_type": "markdown",
   "metadata": {},
   "source": [
    "And now we might as well save it."
   ]
  },
  {
   "cell_type": "code",
   "execution_count": null,
   "metadata": {},
   "outputs": [],
   "source": [
    "geocoded.to_csv(\"pharma_geocoded.csv\", index=False)"
   ]
  }
 ],
 "metadata": {
  "kernelspec": {
   "display_name": "Python 3",
   "language": "python",
   "name": "python3"
  },
  "language_info": {
   "codemirror_mode": {
    "name": "ipython",
    "version": 3
   },
   "file_extension": ".py",
   "mimetype": "text/x-python",
   "name": "python",
   "nbconvert_exporter": "python",
   "pygments_lexer": "ipython3",
   "version": "3.6.8"
  },
  "toc": {
   "base_numbering": 1,
   "nav_menu": {},
   "number_sections": true,
   "sideBar": true,
   "skip_h1_title": false,
   "title_cell": "Table of Contents",
   "title_sidebar": "Contents",
   "toc_cell": false,
   "toc_position": {},
   "toc_section_display": true,
   "toc_window_display": false
  }
 },
 "nbformat": 4,
 "nbformat_minor": 2
}
